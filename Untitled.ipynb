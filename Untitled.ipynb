{
 "cells": [
  {
   "cell_type": "code",
   "execution_count": 1,
   "metadata": {
    "collapsed": true
   },
   "outputs": [],
   "source": [
    "import sys\n",
    "import pandas as pd\n",
    "import numpy as np"
   ]
  },
  {
   "cell_type": "code",
   "execution_count": 2,
   "metadata": {},
   "outputs": [
    {
     "data": {
      "text/html": [
       "<div>\n",
       "<style>\n",
       "    .dataframe thead tr:only-child th {\n",
       "        text-align: right;\n",
       "    }\n",
       "\n",
       "    .dataframe thead th {\n",
       "        text-align: left;\n",
       "    }\n",
       "\n",
       "    .dataframe tbody tr th {\n",
       "        vertical-align: top;\n",
       "    }\n",
       "</style>\n",
       "<table border=\"1\" class=\"dataframe\">\n",
       "  <thead>\n",
       "    <tr style=\"text-align: right;\">\n",
       "      <th></th>\n",
       "      <th>SENTENCE</th>\n",
       "      <th>CLASS</th>\n",
       "    </tr>\n",
       "  </thead>\n",
       "  <tbody>\n",
       "    <tr>\n",
       "      <th>0</th>\n",
       "      <td>Sorry, I don't know about the weather.</td>\n",
       "      <td>S</td>\n",
       "    </tr>\n",
       "    <tr>\n",
       "      <th>1</th>\n",
       "      <td>That is a tricky question to answer.</td>\n",
       "      <td>C</td>\n",
       "    </tr>\n",
       "    <tr>\n",
       "      <th>2</th>\n",
       "      <td>What does OCM stand for</td>\n",
       "      <td>Q</td>\n",
       "    </tr>\n",
       "    <tr>\n",
       "      <th>3</th>\n",
       "      <td>MAX is a Mobile Application Accelerator</td>\n",
       "      <td>S</td>\n",
       "    </tr>\n",
       "    <tr>\n",
       "      <th>4</th>\n",
       "      <td>Can a dog see in colour?</td>\n",
       "      <td>Q</td>\n",
       "    </tr>\n",
       "  </tbody>\n",
       "</table>\n",
       "</div>"
      ],
      "text/plain": [
       "                                  SENTENCE CLASS\n",
       "0   Sorry, I don't know about the weather.     S\n",
       "1     That is a tricky question to answer.     C\n",
       "2                  What does OCM stand for     Q\n",
       "3  MAX is a Mobile Application Accelerator     S\n",
       "4                 Can a dog see in colour?     Q"
      ]
     },
     "execution_count": 2,
     "metadata": {},
     "output_type": "execute_result"
    }
   ],
   "source": [
    "sentences = pd.read_csv('sentences.csv')\n",
    "sentences.head()"
   ]
  },
  {
   "cell_type": "code",
   "execution_count": 3,
   "metadata": {
    "collapsed": true
   },
   "outputs": [],
   "source": [
    "import features"
   ]
  },
  {
   "cell_type": "code",
   "execution_count": 4,
   "metadata": {},
   "outputs": [
    {
     "name": "stdout",
     "output_type": "stream",
     "text": [
      "1\n",
      "why cant we give love one more chance\n",
      "['WRB-NN-PRP', 'NN-PRP-VBP', 'PRP-VBP-VB', 'VBP-VB-CD', 'VB-CD-JJR', 'CD-JJR-NN']\n"
     ]
    }
   ],
   "source": [
    "sentence = \"why can't we give love one more chance?\"\n",
    "no_qmarks = features.count_qmark(sentence)\n",
    "print(no_qmarks)\n",
    "sentence = features.strip_sentence(sentence)\n",
    "print(sentence)\n",
    "pos = features.get_pos(sentence)\n",
    "triples = features.get_triples(pos)\n",
    "\n",
    "print(triples)"
   ]
  },
  {
   "cell_type": "code",
   "execution_count": 5,
   "metadata": {},
   "outputs": [
    {
     "name": "stdout",
     "output_type": "stream",
     "text": [
      "{'id': '1', 'qMark': 1, 'wordCount': 6, 'stemmedCount': 4, 'qVerbCombo': 1, 'verbBeforeNoun': 1, 'VBG': 0, 'VBZ': 0, 'NNP': 0, 'NN': 3, 'NNS': 0, 'NNPS': 0, 'PRP': 0, 'CD': 0, 'stemmedEndNN': 0, 'startTuple0': 0, 'endTuple0': 1, 'endTuple1': 0, 'endTuple2': 0, 'qTripleScore': 0, 'sTripleScore': 0, 'class': 'X'}\n",
      "{'id': '2', 'qMark': 1, 'wordCount': 4, 'stemmedCount': 3, 'qVerbCombo': 1, 'verbBeforeNoun': 0, 'VBG': 1, 'VBZ': 0, 'NNP': 2, 'NN': 0, 'NNS': 0, 'NNPS': 0, 'PRP': 1, 'CD': 0, 'stemmedEndNN': 0, 'startTuple0': 0, 'endTuple0': 0, 'endTuple1': 0, 'endTuple2': 0, 'qTripleScore': 0, 'sTripleScore': 0, 'class': 'X'}\n",
      "{'id': '3', 'qMark': 0, 'wordCount': 12, 'stemmedCount': 8, 'qVerbCombo': 1, 'verbBeforeNoun': 0, 'VBG': 0, 'VBZ': 0, 'NNP': 1, 'NN': 1, 'NNS': 1, 'NNPS': 0, 'PRP': 0, 'CD': 3, 'stemmedEndNN': 0, 'startTuple0': 0, 'endTuple0': 0, 'endTuple1': 0, 'endTuple2': 0, 'qTripleScore': 0, 'sTripleScore': 2, 'class': 'X'}\n",
      "{'id': '4', 'qMark': 0, 'wordCount': 6, 'stemmedCount': 4, 'qVerbCombo': 1, 'verbBeforeNoun': 1, 'VBG': 0, 'VBZ': 0, 'NNP': 0, 'NN': 0, 'NNS': 0, 'NNPS': 0, 'PRP': 0, 'CD': 1, 'stemmedEndNN': 0, 'startTuple0': 0, 'endTuple0': 0, 'endTuple1': 1, 'endTuple2': 0, 'qTripleScore': 4, 'sTripleScore': 0, 'class': 'X'}\n"
     ]
    }
   ],
   "source": [
    "#### Bespoke Features Generator Example - Get a Python Dictionary of Features ####\n",
    "sentences = [\"Can a dog see in colour?\",\n",
    "             \"Hey, How's it going?\",\n",
    "             \"Oracle 12.2 will be released for on-premises users on 15 March 2017\",\n",
    "             \"When will Oracle 12 be released\"]\n",
    "id = 1\n",
    "for s in sentences:\n",
    "    features_dict = features.features_dict(str(id),s)\n",
    "    features_string,header = features.get_string(str(id),s)\n",
    "    print(features_dict)\n",
    "#     print(features_string)\n",
    "    id += 1"
   ]
  },
  {
   "cell_type": "code",
   "execution_count": 33,
   "metadata": {},
   "outputs": [
    {
     "name": "stdout",
     "output_type": "stream",
     "text": [
      "reading input from  sentences.csv\n",
      "Writing output to  featuresDump.csv\n",
      " id, wordCount, stemmedCount, stemmedEndNN, CD, NN, NNP, NNPS, NNS, PRP, VBG, VBZ, startTuple0, endTuple0, endTuple1, endTuple2, verbBeforeNoun, qMark, qVerbCombo, qTripleScore, sTripleScore, class\n",
      " 44d8a78d2ca66b1b, 7, 5, 0, 0, 1, 1, 0, 0, 1, 0, 0, 0, 0, 0, 0, 0, 0, 1, 0, 1, S\n",
      " a9133770c79b2c43, 7, 4, 1, 0, 1, 0, 0, 0, 0, 0, 1, 0, 0, 0, 0, 1, 0, 1, 0, 2, C\n",
      " 246cf41a55627762, 5, 3, 0, 0, 0, 1, 0, 0, 0, 0, 1, 0, 0, 0, 0, 1, 0, 1, 1, 0, Q\n",
      " 53ac5757399632e8, 6, 4, 0, 0, 0, 3, 0, 0, 0, 0, 1, 0, 0, 0, 0, 0, 0, 1, 0, 2, S\n",
      " 78e580bde0b4396e, 6, 4, 0, 0, 3, 0, 0, 0, 0, 0, 0, 0, 1, 0, 0, 1, 1, 1, 0, 0, Q\n",
      " 655549fcf09f8443, 3, 0, 0, 0, 0, 0, 0, 0, 1, 0, 0, 0, 0, 0, 0, 1, 0, 1, 0, 0, C\n",
      " 4e171734ce063aa5, 15, 7, 1, 0, 3, 2, 0, 0, 3, 0, 0, 0, 0, 0, 0, 1, 1, 1, 1, 0, Q\n",
      " ae7e6df1a4b14546, 4, 2, 1, 0, 1, 0, 0, 0, 0, 0, 1, 0, 0, 0, 0, 1, 0, 1, 0, 0, Q\n",
      " fdb470768f34d2a1, 5, 4, 0, 0, 2, 0, 0, 0, 0, 0, 1, 1, 1, 0, 0, 1, 1, 1, 2, 0, C\n",
      " 87f6ee1cc1638a45, 8, 7, 1, 0, 3, 2, 0, 1, 0, 0, 0, 0, 0, 0, 0, 1, 1, 1, 0, 0, Q\n",
      " e1972f4feba4fe0b, 8, 5, 0, 1, 1, 1, 0, 0, 0, 0, 0, 0, 0, 1, 0, 1, 0, 1, 0, 0, Q\n",
      " e2837a761670884e, 5, 3, 0, 1, 0, 0, 0, 0, 0, 0, 0, 0, 0, 1, 0, 1, 1, 1, 1, 0, Q\n",
      " e00da61a469ee4c3, 5, 2, 0, 0, 1, 0, 0, 0, 0, 0, 0, 0, 1, 0, 0, 1, 1, 1, 0, 0, Q\n",
      " 31cedeb4e04fba02, 4, 3, 0, 0, 0, 2, 0, 0, 0, 0, 1, 0, 0, 0, 0, 1, 1, 1, 1, 0, Q\n",
      " f06e6f511ba807a5, 5, 4, 0, 0, 0, 4, 0, 0, 0, 0, 1, 0, 0, 0, 0, 0, 0, 1, 0, 2, S\n",
      " d31335ebe2e8c4cc, 8, 6, 1, 0, 0, 5, 0, 0, 0, 0, 1, 0, 0, 0, 0, 0, 0, 1, 0, 3, S\n",
      " 67f29b19c4c68c7f, 7, 5, 1, 0, 0, 5, 0, 0, 0, 0, 1, 0, 0, 0, 0, 0, 0, 1, 0, 3, S\n",
      " 27255b48d6c181cc, 8, 5, 1, 0, 2, 1, 0, 1, 0, 0, 1, 0, 0, 0, 0, 0, 0, 1, 0, 4, S\n",
      " 24e38f0e170efa95, 3, 2, 0, 0, 0, 1, 0, 0, 0, 0, 1, 0, 0, 0, 1, 1, 1, 1, 1, 0, Q\n",
      " 6de274dfb75f9a9b, 4, 2, 0, 0, 0, 1, 0, 0, 0, 0, 1, 0, 0, 0, 0, 1, 1, 1, 1, 0, Q\n",
      " af7dd6b70d544b56, 6, 5, 1, 0, 0, 5, 0, 0, 0, 0, 1, 0, 0, 0, 0, 0, 0, 1, 0, 2, S\n",
      " 584d5d4428d60a5f, 11, 8, 1, 0, 2, 4, 0, 0, 0, 0, 1, 0, 0, 0, 0, 0, 0, 1, 0, 4, Q\n",
      " acbee536f03ccd56, 3, 2, 0, 0, 0, 1, 0, 0, 0, 0, 1, 0, 0, 0, 1, 1, 0, 1, 1, 0, Q\n",
      " cf9b1af68baeb924, 10, 7, 1, 0, 0, 6, 0, 0, 0, 0, 1, 0, 0, 0, 0, 0, 0, 1, 0, 3, S\n",
      " 9140ee537fbe5390, 3, 2, 0, 0, 0, 1, 0, 0, 0, 0, 1, 1, 0, 0, 0, 1, 1, 1, 1, 0, Q\n",
      " cabf9e317ba4a072, 9, 7, 1, 0, 2, 4, 0, 0, 0, 0, 1, 0, 0, 0, 0, 0, 0, 1, 0, 3, S\n",
      " adac3cb75965c4b6, 4, 3, 0, 0, 0, 2, 0, 0, 0, 0, 1, 0, 0, 0, 0, 1, 0, 1, 1, 0, Q\n",
      " 17cc67fbae12806b, 9, 5, 0, 0, 1, 1, 0, 0, 1, 0, 0, 0, 0, 0, 0, 1, 1, 1, 2, 0, Q\n",
      " e3ef9177c80dbe88, 4, 2, 0, 0, 0, 1, 0, 0, 0, 0, 1, 0, 0, 0, 0, 1, 1, 1, 1, 0, Q\n",
      " 3d25a26134f0e450, 6, 5, 1, 0, 1, 1, 0, 0, 1, 0, 0, 0, 0, 0, 0, 1, 0, 1, 1, 0, Q\n",
      " 45ebbda550c2c8d1, 8, 5, 0, 0, 1, 1, 0, 0, 1, 1, 0, 0, 0, 0, 0, 1, 0, 1, 0, 0, S\n",
      " c891ae5c0aafc3a2, 6, 4, 0, 0, 1, 1, 0, 1, 0, 0, 1, 0, 0, 0, 0, 0, 0, 1, 0, 1, S\n",
      " 280b0360e0d3ffc1, 5, 4, 0, 0, 0, 4, 0, 0, 0, 0, 1, 0, 0, 0, 0, 0, 0, 1, 0, 2, S\n",
      " 80406a30917ebdea, 2, 2, 1, 0, 0, 2, 0, 0, 0, 0, 0, 0, 0, 0, 0, 0, 0, 1, 0, 0, C\n",
      " adf4dea75841db7e, 4, 2, 1, 0, 1, 1, 0, 0, 0, 0, 1, 0, 0, 0, 0, 0, 0, 1, 0, 0, C\n",
      " 49f68a5c8493ec2c, 1, 1, 0, 0, 1, 0, 0, 0, 0, 0, 0, 1, 1, 1, 1, 0, 0, 0, 0, 0, C\n",
      " fd33e2e8ad3cb1bd, 2, 1, 0, 0, 1, 0, 0, 0, 0, 0, 0, 0, 0, 0, 0, 0, 0, 1, 0, 0, C\n",
      " 0d4a13fc4cce6dab, 8, 3, 0, 0, 0, 1, 0, 0, 2, 0, 1, 0, 0, 0, 0, 1, 0, 1, 4, 0, Q\n",
      " 75dc9bbfa6b55441, 3, 2, 0, 0, 0, 0, 0, 0, 1, 0, 0, 0, 0, 0, 0, 1, 0, 1, 0, 0, C\n",
      " 35179a54ea587953, 3, 0, 0, 0, 0, 0, 0, 0, 1, 0, 0, 0, 0, 0, 0, 1, 1, 1, 0, 0, C\n",
      " 8cdda20f1ae22213, 4, 3, 0, 0, 1, 0, 0, 0, 1, 0, 0, 0, 0, 0, 0, 0, 0, 1, 0, 0, C\n",
      " acaa16770db76c1f, 1, 1, 0, 0, 0, 0, 0, 0, 0, 0, 0, 1, 1, 1, 1, 0, 0, 0, 0, 0, C\n",
      " 04e35eb3e4fcb8b3, 3, 1, 0, 0, 0, 0, 0, 0, 1, 0, 0, 0, 0, 0, 0, 1, 1, 1, 0, 0, C\n",
      " 8798ff1fe7ac435d, 4, 2, 0, 0, 1, 0, 0, 0, 0, 0, 1, 0, 0, 0, 0, 1, 1, 1, 2, 0, Q\n",
      " 7cdd3d0ecb068e75, 4, 3, 0, 0, 0, 0, 0, 0, 0, 0, 1, 0, 0, 0, 0, 1, 0, 1, 0, 0, C\n",
      " 1fb184007b8404a6, 6, 3, 0, 0, 0, 0, 0, 0, 2, 0, 0, 0, 0, 0, 0, 1, 0, 1, 0, 0, C\n",
      " bc013bdd28614223, 9, 6, 0, 0, 1, 0, 0, 1, 0, 2, 1, 0, 0, 0, 0, 0, 0, 1, 0, 1, S\n",
      " e0aa021e21dddbd6, 1, 1, 0, 0, 1, 0, 0, 0, 0, 0, 0, 1, 1, 1, 1, 0, 0, 0, 0, 0, C\n",
      " 5271579ee37bcfc9, 9, 5, 0, 0, 3, 1, 0, 0, 0, 0, 1, 0, 0, 0, 0, 1, 0, 1, 3, 0, Q\n",
      " d7f616a3c67ee26a, 13, 8, 0, 1, 2, 3, 0, 1, 0, 0, 1, 0, 0, 0, 0, 0, 0, 1, 0, 2, S\n",
      " df9f999c9d8d03a4, 7, 5, 0, 1, 0, 0, 0, 1, 0, 0, 0, 0, 0, 0, 0, 1, 1, 1, 4, 0, Q\n",
      " 47cd4b0a7c678525, 12, 8, 0, 3, 1, 1, 0, 1, 0, 0, 0, 0, 0, 0, 0, 0, 0, 1, 0, 2, S\n",
      " 9bf749cbc6d98e54, 13, 9, 1, 0, 3, 2, 0, 1, 1, 0, 0, 0, 0, 0, 0, 1, 0, 1, 0, 1, S\n",
      " 1461c3434c383145, 6, 4, 0, 1, 0, 0, 0, 0, 0, 0, 0, 0, 0, 1, 0, 1, 1, 1, 4, 0, Q\n",
      " bd07b47c0ed04032, 4, 2, 1, 0, 0, 2, 0, 0, 0, 0, 1, 0, 0, 0, 0, 1, 1, 1, 1, 0, Q\n",
      " fb6fe91e5bfc4b40, 6, 3, 0, 1, 0, 0, 0, 0, 0, 0, 0, 0, 0, 1, 0, 1, 1, 1, 4, 0, Q\n",
      " b19a44d5b2c67be3, 4, 1, 0, 0, 1, 0, 0, 0, 0, 0, 1, 0, 0, 0, 0, 1, 1, 1, 2, 0, Q\n",
      " 7dedf834660b2fb1, 9, 4, 0, 0, 1, 2, 0, 0, 2, 0, 1, 0, 0, 0, 0, 0, 1, 1, 4, 0, Q\n",
      " cdb50f25b205961c, 9, 4, 0, 0, 1, 2, 0, 0, 2, 0, 1, 0, 0, 0, 0, 0, 1, 1, 4, 0, Q\n",
      " 5d41402abc4b2a76, 1, 1, 0, 0, 1, 0, 0, 0, 0, 0, 0, 1, 1, 1, 1, 0, 0, 0, 0, 0, C\n",
      " cd653c6237346bd8, 3, 0, 0, 0, 0, 0, 0, 0, 0, 0, 0, 0, 0, 0, 0, 1, 1, 1, 0, 0, Q\n",
      " 9958d4e4e530ef88, 6, 3, 0, 0, 0, 0, 0, 0, 1, 0, 1, 0, 0, 0, 0, 1, 0, 1, 0, 0, C\n",
      " b132ecdbc670dafa, 5, 3, 0, 0, 1, 0, 0, 0, 2, 0, 0, 0, 0, 0, 0, 1, 0, 1, 0, 0, C\n",
      " 0a9fa43871fab8d0, 2, 2, 0, 0, 0, 1, 0, 0, 0, 0, 1, 0, 0, 0, 0, 1, 1, 1, 1, 0, Q\n",
      " d847905e6e3b4fc3, 8, 7, 1, 0, 1, 4, 0, 1, 0, 0, 0, 0, 0, 0, 0, 0, 0, 1, 0, 2, S\n",
      " b349ce90d28a28c5, 2, 1, 0, 0, 1, 0, 0, 0, 0, 0, 0, 0, 0, 0, 0, 0, 0, 1, 0, 0, C\n",
      " b7c0face5c5d7293, 4, 1, 0, 0, 1, 0, 0, 0, 1, 0, 0, 0, 0, 0, 0, 1, 1, 1, 0, 0, Q\n",
      " de705e55218e1db9, 4, 1, 0, 0, 1, 0, 0, 0, 0, 0, 1, 0, 0, 0, 0, 1, 1, 1, 2, 0, Q\n",
      " 7055c710336d670c, 3, 1, 0, 0, 0, 1, 0, 0, 0, 0, 1, 0, 0, 0, 1, 1, 1, 1, 1, 0, Q\n",
      " 0996bc459d69b25c, 3, 3, 1, 0, 0, 3, 0, 0, 0, 0, 0, 0, 0, 0, 0, 0, 0, 1, 0, 1, S\n",
      " 3b416352816dc854, 3, 2, 0, 0, 0, 1, 0, 0, 0, 0, 1, 0, 0, 0, 1, 1, 1, 1, 1, 0, Q\n",
      " d624e0e2ef10c124, 3, 3, 0, 0, 0, 2, 0, 0, 0, 0, 0, 0, 0, 0, 0, 0, 0, 1, 0, 0, S\n",
      " e2770d8f1590a215, 5, 3, 1, 0, 0, 2, 0, 0, 0, 0, 1, 0, 0, 0, 0, 1, 1, 1, 1, 1, Q\n",
      " 601fdf6ab85a9875, 7, 4, 1, 0, 0, 4, 0, 0, 0, 0, 1, 0, 0, 0, 0, 0, 0, 1, 0, 2, S\n",
      " a947286eb78be57e, 4, 3, 0, 0, 0, 1, 0, 0, 0, 0, 1, 0, 0, 0, 0, 1, 1, 1, 0, 0, Q\n",
      " 8e7615d678057ad3, 6, 4, 0, 0, 0, 3, 0, 0, 0, 0, 0, 0, 0, 0, 0, 0, 0, 1, 0, 0, S\n",
      " 498b643ac17bcc7d, 2, 2, 1, 0, 0, 2, 0, 0, 0, 0, 0, 0, 0, 0, 0, 0, 0, 1, 0, 0, S\n",
      " 8ef9a439c59d7cd4, 2, 2, 0, 0, 0, 1, 0, 0, 0, 0, 1, 0, 0, 0, 0, 1, 1, 1, 1, 0, Q\n",
      " 64e22039495c59bf, 7, 5, 1, 0, 0, 5, 0, 0, 0, 0, 1, 0, 0, 0, 0, 0, 0, 1, 0, 3, S\n",
      " b4b61d587041e87e, 7, 4, 1, 0, 0, 4, 0, 0, 0, 0, 1, 0, 0, 0, 0, 0, 0, 1, 0, 2, S\n",
      " cc0c263a455bb702, 6, 5, 0, 0, 3, 1, 0, 0, 0, 0, 0, 0, 0, 0, 0, 0, 0, 1, 0, 0, S\n",
      " b035a70957f52793, 4, 2, 0, 0, 0, 0, 0, 0, 1, 0, 0, 0, 0, 0, 0, 1, 1, 1, 0, 0, Q\n",
      " 8b1a9953c4611296, 1, 1, 0, 0, 1, 0, 0, 0, 0, 0, 0, 1, 1, 1, 1, 0, 0, 0, 0, 0, C\n",
      " 0a44f6e2f3d6f4c6, 2, 2, 0, 0, 0, 0, 0, 0, 0, 0, 1, 0, 0, 0, 0, 1, 1, 1, 0, 0, C\n",
      " 9d68fec0f14b1154, 5, 2, 1, 0, 0, 0, 0, 1, 1, 1, 0, 0, 0, 0, 0, 0, 0, 1, 0, 0, C\n",
      " 6b2d6039a794fb49, 12, 7, 0, 1, 2, 3, 0, 1, 0, 0, 1, 0, 0, 0, 0, 0, 0, 1, 0, 2, S\n",
      " abeaab945d7b580b, 4, 3, 1, 0, 0, 1, 0, 1, 1, 1, 0, 0, 0, 0, 0, 0, 0, 1, 0, 0, C\n",
      " 94590dd047fcbfce, 10, 5, 0, 2, 1, 1, 0, 0, 0, 0, 0, 0, 0, 0, 0, 0, 0, 1, 0, 2, S\n",
      " 39da987d80db8a53, 4, 3, 1, 0, 1, 0, 0, 0, 0, 1, 1, 0, 0, 0, 0, 0, 0, 1, 0, 1, S\n",
      " 8ec72c8fd0636d55, 4, 2, 1, 0, 1, 0, 0, 0, 0, 0, 1, 0, 0, 0, 0, 1, 0, 1, 1, 0, Q\n",
      " 9cdf770a3252339d, 6, 3, 1, 0, 2, 0, 0, 0, 0, 0, 1, 0, 0, 0, 0, 0, 0, 1, 0, 2, S\n",
      " 7a0fc645497df2c6, 3, 2, 0, 0, 0, 1, 0, 0, 0, 0, 1, 0, 0, 0, 1, 1, 1, 1, 1, 0, Q\n",
      " 036d7e8be25c3108, 4, 2, 0, 0, 1, 0, 0, 0, 0, 0, 1, 0, 0, 0, 0, 1, 0, 1, 1, 0, Q\n",
      " b2dd2ca708214c2a, 6, 4, 0, 1, 0, 0, 0, 0, 0, 0, 0, 0, 0, 1, 0, 1, 0, 1, 4, 0, Q\n",
      " 73ebcc1f94f38ddf, 3, 2, 0, 0, 0, 0, 0, 0, 1, 1, 1, 0, 0, 0, 0, 1, 1, 1, 0, 0, C\n",
      " 617c60a010967c8a, 4, 3, 0, 0, 1, 1, 0, 0, 1, 1, 0, 0, 0, 0, 0, 0, 1, 1, 0, 0, C\n",
      " ecef7fa7fcb25f20, 9, 6, 0, 2, 2, 1, 0, 0, 0, 0, 0, 0, 0, 0, 0, 0, 0, 1, 0, 2, S\n",
      " 16fb4f28223d22a9, 7, 5, 0, 0, 1, 1, 0, 0, 0, 0, 0, 0, 0, 0, 0, 1, 1, 1, 0, 0, Q\n",
      " 7fea2d04212f8039, 8, 5, 0, 0, 2, 3, 0, 0, 0, 0, 0, 0, 0, 0, 0, 0, 0, 1, 0, 0, S\n",
      " 3df9464caeef89a4, 13, 7, 0, 0, 3, 1, 0, 0, 0, 0, 1, 0, 0, 0, 0, 0, 0, 1, 1, 3, S\n"
     ]
    }
   ],
   "source": [
    "import featuresDump"
   ]
  },
  {
   "cell_type": "code",
   "execution_count": 34,
   "metadata": {
    "collapsed": true
   },
   "outputs": [],
   "source": [
    "from sklearn.ensemble import RandomForestClassifier"
   ]
  },
  {
   "cell_type": "code",
   "execution_count": 35,
   "metadata": {
    "collapsed": true
   },
   "outputs": [],
   "source": [
    "df = pd.read_csv('featuresDump.csv')   \n",
    "\n",
    "# Strip any leading spaces from col names\n",
    "df.columns = df.columns[:].str.strip()\n",
    "df['class'] = df['class'].map(lambda x: x.strip())\n",
    "\n",
    "width = df.shape[1]"
   ]
  },
  {
   "cell_type": "code",
   "execution_count": 36,
   "metadata": {},
   "outputs": [
    {
     "name": "stdout",
     "output_type": "stream",
     "text": [
      "77  rows split into training set, 23 split into test set.\n",
      "FEATURES = Index(['wordCount', 'stemmedCount', 'stemmedEndNN', 'CD', 'NN', 'NNP', 'NNPS',\n",
      "       'NNS', 'PRP', 'VBG', 'VBZ', 'startTuple0', 'endTuple0', 'endTuple1',\n",
      "       'endTuple2', 'verbBeforeNoun', 'qMark', 'qVerbCombo', 'qTripleScore',\n",
      "       'sTripleScore'],\n",
      "      dtype='object')\n"
     ]
    }
   ],
   "source": [
    "#split into test and training (is_train: True / False col)\n",
    "np.random.seed(seed=1)\n",
    "df['is_train'] = np.random.uniform(0, 1, len(df)) <= .75\n",
    "train, test = df[df['is_train']==True], df[df['is_train']==False]\n",
    "print(str(len(train)), \" rows split into training set,\", str(len(test)), \"split into test set.\")\n",
    "\n",
    "features = df.columns[1:width-1]  #remove the first ID col and last col=classifier\n",
    "print(\"FEATURES = {}\".format(features))"
   ]
  },
  {
   "cell_type": "code",
   "execution_count": 37,
   "metadata": {},
   "outputs": [
    {
     "data": {
      "text/plain": [
       "RandomForestClassifier(bootstrap=True, class_weight=None, criterion='gini',\n",
       "            max_depth=None, max_features='auto', max_leaf_nodes=None,\n",
       "            min_impurity_split=1e-07, min_samples_leaf=1,\n",
       "            min_samples_split=2, min_weight_fraction_leaf=0.0,\n",
       "            n_estimators=100, n_jobs=2, oob_score=False, random_state=None,\n",
       "            verbose=0, warm_start=False)"
      ]
     },
     "execution_count": 37,
     "metadata": {},
     "output_type": "execute_result"
    }
   ],
   "source": [
    "# Fit an RF Model for \"class\" given features\n",
    "clf = RandomForestClassifier(n_jobs=2, n_estimators = 100)\n",
    "clf.fit(train[features], train['class'])"
   ]
  },
  {
   "cell_type": "code",
   "execution_count": 38,
   "metadata": {
    "collapsed": true
   },
   "outputs": [],
   "source": [
    "# Predict against test set\n",
    "preds = clf.predict(test[features])\n",
    "predout = pd.DataFrame({ 'id' : test['id'], 'predicted' : preds, 'actual' : test['class'] })"
   ]
  },
  {
   "cell_type": "code",
   "execution_count": 39,
   "metadata": {},
   "outputs": [
    {
     "data": {
      "text/html": [
       "<div>\n",
       "<style>\n",
       "    .dataframe thead tr:only-child th {\n",
       "        text-align: right;\n",
       "    }\n",
       "\n",
       "    .dataframe thead th {\n",
       "        text-align: left;\n",
       "    }\n",
       "\n",
       "    .dataframe tbody tr th {\n",
       "        vertical-align: top;\n",
       "    }\n",
       "</style>\n",
       "<table border=\"1\" class=\"dataframe\">\n",
       "  <thead>\n",
       "    <tr style=\"text-align: right;\">\n",
       "      <th></th>\n",
       "      <th>actual</th>\n",
       "      <th>id</th>\n",
       "      <th>predicted</th>\n",
       "    </tr>\n",
       "  </thead>\n",
       "  <tbody>\n",
       "    <tr>\n",
       "      <th>13</th>\n",
       "      <td>Q</td>\n",
       "      <td>31cedeb4e04fba02</td>\n",
       "      <td>Q</td>\n",
       "    </tr>\n",
       "    <tr>\n",
       "      <th>20</th>\n",
       "      <td>S</td>\n",
       "      <td>af7dd6b70d544b56</td>\n",
       "      <td>S</td>\n",
       "    </tr>\n",
       "    <tr>\n",
       "      <th>21</th>\n",
       "      <td>Q</td>\n",
       "      <td>584d5d4428d60a5f</td>\n",
       "      <td>S</td>\n",
       "    </tr>\n",
       "    <tr>\n",
       "      <th>24</th>\n",
       "      <td>Q</td>\n",
       "      <td>9140ee537fbe5390</td>\n",
       "      <td>Q</td>\n",
       "    </tr>\n",
       "    <tr>\n",
       "      <th>25</th>\n",
       "      <td>S</td>\n",
       "      <td>cabf9e317ba4a072</td>\n",
       "      <td>S</td>\n",
       "    </tr>\n",
       "    <tr>\n",
       "      <th>29</th>\n",
       "      <td>Q</td>\n",
       "      <td>3d25a26134f0e450</td>\n",
       "      <td>Q</td>\n",
       "    </tr>\n",
       "    <tr>\n",
       "      <th>32</th>\n",
       "      <td>S</td>\n",
       "      <td>280b0360e0d3ffc1</td>\n",
       "      <td>S</td>\n",
       "    </tr>\n",
       "    <tr>\n",
       "      <th>37</th>\n",
       "      <td>Q</td>\n",
       "      <td>0d4a13fc4cce6dab</td>\n",
       "      <td>Q</td>\n",
       "    </tr>\n",
       "    <tr>\n",
       "      <th>39</th>\n",
       "      <td>C</td>\n",
       "      <td>35179a54ea587953</td>\n",
       "      <td>C</td>\n",
       "    </tr>\n",
       "    <tr>\n",
       "      <th>40</th>\n",
       "      <td>C</td>\n",
       "      <td>8cdda20f1ae22213</td>\n",
       "      <td>C</td>\n",
       "    </tr>\n",
       "    <tr>\n",
       "      <th>43</th>\n",
       "      <td>Q</td>\n",
       "      <td>8798ff1fe7ac435d</td>\n",
       "      <td>Q</td>\n",
       "    </tr>\n",
       "    <tr>\n",
       "      <th>46</th>\n",
       "      <td>S</td>\n",
       "      <td>bc013bdd28614223</td>\n",
       "      <td>S</td>\n",
       "    </tr>\n",
       "    <tr>\n",
       "      <th>68</th>\n",
       "      <td>Q</td>\n",
       "      <td>7055c710336d670c</td>\n",
       "      <td>Q</td>\n",
       "    </tr>\n",
       "    <tr>\n",
       "      <th>70</th>\n",
       "      <td>Q</td>\n",
       "      <td>3b416352816dc854</td>\n",
       "      <td>Q</td>\n",
       "    </tr>\n",
       "    <tr>\n",
       "      <th>73</th>\n",
       "      <td>S</td>\n",
       "      <td>601fdf6ab85a9875</td>\n",
       "      <td>S</td>\n",
       "    </tr>\n",
       "    <tr>\n",
       "      <th>76</th>\n",
       "      <td>S</td>\n",
       "      <td>498b643ac17bcc7d</td>\n",
       "      <td>C</td>\n",
       "    </tr>\n",
       "    <tr>\n",
       "      <th>78</th>\n",
       "      <td>S</td>\n",
       "      <td>64e22039495c59bf</td>\n",
       "      <td>S</td>\n",
       "    </tr>\n",
       "    <tr>\n",
       "      <th>80</th>\n",
       "      <td>S</td>\n",
       "      <td>cc0c263a455bb702</td>\n",
       "      <td>S</td>\n",
       "    </tr>\n",
       "    <tr>\n",
       "      <th>82</th>\n",
       "      <td>C</td>\n",
       "      <td>8b1a9953c4611296</td>\n",
       "      <td>C</td>\n",
       "    </tr>\n",
       "    <tr>\n",
       "      <th>85</th>\n",
       "      <td>S</td>\n",
       "      <td>6b2d6039a794fb49</td>\n",
       "      <td>S</td>\n",
       "    </tr>\n",
       "    <tr>\n",
       "      <th>87</th>\n",
       "      <td>S</td>\n",
       "      <td>94590dd047fcbfce</td>\n",
       "      <td>S</td>\n",
       "    </tr>\n",
       "    <tr>\n",
       "      <th>91</th>\n",
       "      <td>Q</td>\n",
       "      <td>7a0fc645497df2c6</td>\n",
       "      <td>Q</td>\n",
       "    </tr>\n",
       "    <tr>\n",
       "      <th>96</th>\n",
       "      <td>S</td>\n",
       "      <td>ecef7fa7fcb25f20</td>\n",
       "      <td>S</td>\n",
       "    </tr>\n",
       "  </tbody>\n",
       "</table>\n",
       "</div>"
      ],
      "text/plain": [
       "   actual                 id predicted\n",
       "13      Q   31cedeb4e04fba02         Q\n",
       "20      S   af7dd6b70d544b56         S\n",
       "21      Q   584d5d4428d60a5f         S\n",
       "24      Q   9140ee537fbe5390         Q\n",
       "25      S   cabf9e317ba4a072         S\n",
       "29      Q   3d25a26134f0e450         Q\n",
       "32      S   280b0360e0d3ffc1         S\n",
       "37      Q   0d4a13fc4cce6dab         Q\n",
       "39      C   35179a54ea587953         C\n",
       "40      C   8cdda20f1ae22213         C\n",
       "43      Q   8798ff1fe7ac435d         Q\n",
       "46      S   bc013bdd28614223         S\n",
       "68      Q   7055c710336d670c         Q\n",
       "70      Q   3b416352816dc854         Q\n",
       "73      S   601fdf6ab85a9875         S\n",
       "76      S   498b643ac17bcc7d         C\n",
       "78      S   64e22039495c59bf         S\n",
       "80      S   cc0c263a455bb702         S\n",
       "82      C   8b1a9953c4611296         C\n",
       "85      S   6b2d6039a794fb49         S\n",
       "87      S   94590dd047fcbfce         S\n",
       "91      Q   7a0fc645497df2c6         Q\n",
       "96      S   ecef7fa7fcb25f20         S"
      ]
     },
     "execution_count": 39,
     "metadata": {},
     "output_type": "execute_result"
    }
   ],
   "source": [
    "predout"
   ]
  },
  {
   "cell_type": "code",
   "execution_count": 40,
   "metadata": {},
   "outputs": [
    {
     "name": "stdout",
     "output_type": "stream",
     "text": [
      "\n",
      "\n",
      "Accuracy Score:  0.913\n"
     ]
    }
   ],
   "source": [
    "from sklearn.metrics import accuracy_score\n",
    "print(\"\\n\\nAccuracy Score: \", round(accuracy_score(test['class'], preds),3) ) # https://en.wikipedia.org/wiki/Jaccard_index"
   ]
  },
  {
   "cell_type": "code",
   "execution_count": 41,
   "metadata": {
    "collapsed": true
   },
   "outputs": [],
   "source": [
    "# saving model using pickel\n",
    "import pickle\n",
    "filename = 'learned_model.sav'\n",
    "pickle.dump(clf, open(filename, 'wb'))"
   ]
  },
  {
   "cell_type": "code",
   "execution_count": 8,
   "metadata": {
    "collapsed": true
   },
   "outputs": [],
   "source": [
    "import pickle\n",
    "loaded_model = pickle.load(open('learned_model.sav', 'rb'))"
   ]
  },
  {
   "cell_type": "code",
   "execution_count": 13,
   "metadata": {
    "collapsed": true
   },
   "outputs": [],
   "source": [
    "sentence = \"What is the cost for 1 month\"\n",
    "\n",
    "id = 1  #features needs an ID passing in at moment - maybe redundant?\n",
    "\n",
    "f = features.features_dict(str(id),sentence)\n",
    "fseries = features.features_series(f)\n",
    "width = len(fseries)\n",
    "fseries = fseries[1:width-1]  #All but the first and last item (strip ID and null class off)\n",
    "    \n",
    "#Get a classification prediction from the Model, based on supplied features\n",
    "sentence_class = loaded_model.predict([fseries])[0].strip()"
   ]
  },
  {
   "cell_type": "code",
   "execution_count": 14,
   "metadata": {},
   "outputs": [
    {
     "data": {
      "text/plain": [
       "'Q'"
      ]
     },
     "execution_count": 14,
     "metadata": {},
     "output_type": "execute_result"
    }
   ],
   "source": [
    "sentence_class"
   ]
  },
  {
   "cell_type": "code",
   "execution_count": 2,
   "metadata": {},
   "outputs": [
    {
     "name": "stdout",
     "output_type": "stream",
     "text": [
      "Q\n"
     ]
    }
   ],
   "source": [
    "import classify\n",
    "print(classify.sent_class('What is the cost for 1 month'))"
   ]
  },
  {
   "cell_type": "code",
   "execution_count": 1,
   "metadata": {
    "collapsed": true
   },
   "outputs": [],
   "source": [
    "import topic\n",
    "subject, root, obj = topic.topic(\"hey we finally met\")"
   ]
  },
  {
   "cell_type": "code",
   "execution_count": 2,
   "metadata": {},
   "outputs": [
    {
     "name": "stdout",
     "output_type": "stream",
     "text": [
      "Subject: ['we', []] \n",
      "Topic: ['hey', []] \n",
      "Object: []\n"
     ]
    }
   ],
   "source": [
    "print(\"Subject:\",subject, \"\\nTopic:\", root, \"\\nObject:\",obj)"
   ]
  },
  {
   "cell_type": "code",
   "execution_count": null,
   "metadata": {
    "collapsed": true
   },
   "outputs": [],
   "source": []
  }
 ],
 "metadata": {
  "kernelspec": {
   "display_name": "Python 3",
   "language": "python",
   "name": "python3"
  },
  "language_info": {
   "codemirror_mode": {
    "name": "ipython",
    "version": 3
   },
   "file_extension": ".py",
   "mimetype": "text/x-python",
   "name": "python",
   "nbconvert_exporter": "python",
   "pygments_lexer": "ipython3",
   "version": "3.6.1"
  }
 },
 "nbformat": 4,
 "nbformat_minor": 2
}
