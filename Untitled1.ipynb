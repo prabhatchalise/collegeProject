{
 "cells": [
  {
   "cell_type": "code",
   "execution_count": 2,
   "metadata": {
    "collapsed": true
   },
   "outputs": [],
   "source": [
    "import topic"
   ]
  },
  {
   "cell_type": "code",
   "execution_count": 3,
   "metadata": {},
   "outputs": [
    {
     "name": "stdout",
     "output_type": "stream",
     "text": [
      "\n",
      " What is the cost of internet connection per month for 1mbps?\n",
      "Subject: ['cost', 'connection'] \n",
      "Topic: ['What'] \n",
      "Object: []\n"
     ]
    }
   ],
   "source": [
    "sentence = \"What is the cost of internet connection per month for 1mbps?\"\n",
    "subj, root, obj = topic.topic(sentence)\n",
    "print(\"\\n\",sentence)\n",
    "print(\"Subject:\",subj, \"\\nTopic:\", root, \"\\nObject:\",obj)"
   ]
  },
  {
   "cell_type": "code",
   "execution_count": 4,
   "metadata": {},
   "outputs": [
    {
     "name": "stdout",
     "output_type": "stream",
     "text": [
      "\n",
      " How is the service and support\n",
      "Subject: ['service', 'support'] \n",
      "Topic: [] \n",
      "Object: []\n"
     ]
    }
   ],
   "source": [
    "sentence = \"How is the service and support\"\n",
    "subj, root, obj = topic.topic(sentence)\n",
    "print(\"\\n\",sentence)\n",
    "print(\"Subject:\",subj, \"\\nTopic:\", root, \"\\nObject:\",obj)"
   ]
  },
  {
   "cell_type": "code",
   "execution_count": 5,
   "metadata": {},
   "outputs": [
    {
     "name": "stdout",
     "output_type": "stream",
     "text": [
      "\n",
      " How can i change my wifi password?\n",
      "Subject: [] \n",
      "Topic: ['change'] \n",
      "Object: ['password', 'wifi']\n"
     ]
    }
   ],
   "source": [
    "sentence = \"How can i change my wifi password?\"\n",
    "subj, root, obj = topic.topic(sentence)\n",
    "print(\"\\n\",sentence)\n",
    "print(\"Subject:\",subj, \"\\nTopic:\", root, \"\\nObject:\",obj)"
   ]
  },
  {
   "cell_type": "code",
   "execution_count": 6,
   "metadata": {},
   "outputs": [
    {
     "name": "stdout",
     "output_type": "stream",
     "text": [
      "['i']\n",
      "['change']\n",
      "['password', 'my', 'wifi']\n"
     ]
    }
   ],
   "source": [
    "print(subject_list)\n",
    "print(topic_list)\n",
    "print(object_list)"
   ]
  },
  {
   "cell_type": "code",
   "execution_count": 7,
   "metadata": {
    "collapsed": true
   },
   "outputs": [],
   "source": [
    "from nltk.corpus import stopwords\n",
    "\n",
    "stopWords = set(stopwords.words('english'))\n",
    "\n",
    "def wordfilter(words):\n",
    "    wordsFiltered = []\n",
    "    words = words\n",
    "    for w in words:\n",
    "        if w not in stopWords:\n",
    "            wordsFiltered.append(w)\n",
    "        \n",
    "    return wordsFiltered"
   ]
  },
  {
   "cell_type": "code",
   "execution_count": 8,
   "metadata": {},
   "outputs": [
    {
     "name": "stdout",
     "output_type": "stream",
     "text": [
      "[]\n",
      "['change']\n",
      "['password', 'wifi']\n"
     ]
    }
   ],
   "source": [
    "print(wordfilter(subject_list))\n",
    "print(wordfilter(topic_list))\n",
    "print(wordfilter(object_list))"
   ]
  },
  {
   "cell_type": "code",
   "execution_count": null,
   "metadata": {
    "collapsed": true
   },
   "outputs": [],
   "source": [
    "# need to store FAQ and there answer in SQL/SQLite\n"
   ]
  },
  {
   "cell_type": "code",
   "execution_count": null,
   "metadata": {
    "collapsed": true
   },
   "outputs": [],
   "source": []
  }
 ],
 "metadata": {
  "kernelspec": {
   "display_name": "Python 3",
   "language": "python",
   "name": "python3"
  },
  "language_info": {
   "codemirror_mode": {
    "name": "ipython",
    "version": 3
   },
   "file_extension": ".py",
   "mimetype": "text/x-python",
   "name": "python",
   "nbconvert_exporter": "python",
   "pygments_lexer": "ipython3",
   "version": "3.6.1"
  }
 },
 "nbformat": 4,
 "nbformat_minor": 2
}
